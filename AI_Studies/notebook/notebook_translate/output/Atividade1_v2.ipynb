{
 "cells": [
  {
   "cell_type": "markdown",
   "id": "3e86706d-4c1c-4f62-aa4d-fc694437c80b",
   "metadata": {},
   "source": [
    "** Question 1 **"
   ]
  },
  {
   "cell_type": "markdown",
   "id": "88c06db9-ba56-4ca2-9624-8ca278723124",
   "metadata": {},
   "source": [
    "The CLAMS.CSV file contains a random sample of 996 vehicle insurance policies for the period 2004-2005. The file variables are in the following order: (i) Valuev (vehicle value in 10000 Australian dollars), (ii) Expos (vehicle exposure), (iii) nsinisters (number of claims in the period), (IV) CSINS (Total Cost of Sinister in Australian Dollars), (V) Typev (VEHICLE TYPE in 11 categories) (VII) Sexoc (main driver sex), (VIII) AREAC (area of ​​residence of the main driver) and (IX) agec (main driver age in 6 categories)."
   ]
  },
  {
   "cell_type": "markdown",
   "id": "60da306b-4379-4eb9-8679-e967ea8ac354",
   "metadata": {},
   "source": [
    "A) Make a descriptive analysis of the data and try to group in a smaller number of categories some categorical variables. Consider as a variable Response (target) cmsinisters = CSINSTRINES/NSINS.\n",
    "\n",
    "B) What is the relationship of the variable cmsinstros with sex? Is any sex higher on average? Can you defend your argument using the techniques you studied?\n",
    "\n",
    "C) Study cmsinisters in relation to the age of the driver. Does your impression change if we add the sex variable?\n",
    "\n",
    "D) Is there a clear ratio of increased risk of risk in relation to the value of the vehicle?\n",
    "\n",
    "E) Make a sample -simple (200) -stratified (100 male and 100 female)"
   ]
  },
  {
   "cell_type": "code",
   "execution_count": 1,
   "id": "9d59c42d-8235-4048-9aa5-55784e72bd72",
   "metadata": {},
   "outputs": [],
   "source": [
    "import pandas as pd\n",
    "import numpy as np\n",
    "import matplotlib.pyplot as plt\n",
    "import seaborn as sns\n",
    "from scipy.stats import ttest_ind"
   ]
  },
  {
   "cell_type": "code",
   "execution_count": 2,
   "id": "b5315559-ccb0-4968-b069-b99b6ba1d4f8",
   "metadata": {},
   "outputs": [
    {
     "data": {
      "text/html": [
       "<div>\n",
       "<style scoped>\n",
       "    .dataframe tbody tr th:only-of-type {\n",
       "        vertical-align: middle;\n",
       "    }\n",
       "\n",
       "    .dataframe tbody tr th {\n",
       "        vertical-align: top;\n",
       "    }\n",
       "\n",
       "    .dataframe thead th {\n",
       "        text-align: right;\n",
       "    }\n",
       "</style>\n",
       "<table border=\"1\" class=\"dataframe\">\n",
       "  <thead>\n",
       "    <tr style=\"text-align: right;\">\n",
       "      <th></th>\n",
       "      <th>valorv</th>\n",
       "      <th>expos</th>\n",
       "      <th>nsinistros</th>\n",
       "      <th>csinistros</th>\n",
       "      <th>tipov</th>\n",
       "      <th>idadev</th>\n",
       "      <th>sexoc</th>\n",
       "      <th>areac</th>\n",
       "      <th>idadec</th>\n",
       "    </tr>\n",
       "  </thead>\n",
       "  <tbody>\n",
       "    <tr>\n",
       "      <th>0</th>\n",
       "      <td>1.66</td>\n",
       "      <td>0.484600</td>\n",
       "      <td>1</td>\n",
       "      <td>669.509999</td>\n",
       "      <td>SEDAN</td>\n",
       "      <td>3</td>\n",
       "      <td>M</td>\n",
       "      <td>B</td>\n",
       "      <td>6</td>\n",
       "    </tr>\n",
       "    <tr>\n",
       "      <th>1</th>\n",
       "      <td>1.51</td>\n",
       "      <td>0.993840</td>\n",
       "      <td>1</td>\n",
       "      <td>806.609999</td>\n",
       "      <td>SEDAN</td>\n",
       "      <td>3</td>\n",
       "      <td>F</td>\n",
       "      <td>F</td>\n",
       "      <td>4</td>\n",
       "    </tr>\n",
       "    <tr>\n",
       "      <th>2</th>\n",
       "      <td>0.76</td>\n",
       "      <td>0.539357</td>\n",
       "      <td>1</td>\n",
       "      <td>401.805451</td>\n",
       "      <td>HBACK</td>\n",
       "      <td>3</td>\n",
       "      <td>M</td>\n",
       "      <td>C</td>\n",
       "      <td>4</td>\n",
       "    </tr>\n",
       "    <tr>\n",
       "      <th>3</th>\n",
       "      <td>1.89</td>\n",
       "      <td>0.654346</td>\n",
       "      <td>2</td>\n",
       "      <td>1811.709997</td>\n",
       "      <td>STNWG</td>\n",
       "      <td>3</td>\n",
       "      <td>M</td>\n",
       "      <td>F</td>\n",
       "      <td>2</td>\n",
       "    </tr>\n",
       "    <tr>\n",
       "      <th>4</th>\n",
       "      <td>4.06</td>\n",
       "      <td>0.851472</td>\n",
       "      <td>1</td>\n",
       "      <td>5434.439987</td>\n",
       "      <td>STNWG</td>\n",
       "      <td>2</td>\n",
       "      <td>M</td>\n",
       "      <td>F</td>\n",
       "      <td>3</td>\n",
       "    </tr>\n",
       "    <tr>\n",
       "      <th>...</th>\n",
       "      <td>...</td>\n",
       "      <td>...</td>\n",
       "      <td>...</td>\n",
       "      <td>...</td>\n",
       "      <td>...</td>\n",
       "      <td>...</td>\n",
       "      <td>...</td>\n",
       "      <td>...</td>\n",
       "      <td>...</td>\n",
       "    </tr>\n",
       "    <tr>\n",
       "      <th>991</th>\n",
       "      <td>2.02</td>\n",
       "      <td>0.859685</td>\n",
       "      <td>1</td>\n",
       "      <td>3723.636360</td>\n",
       "      <td>HDTOP</td>\n",
       "      <td>3</td>\n",
       "      <td>M</td>\n",
       "      <td>F</td>\n",
       "      <td>3</td>\n",
       "    </tr>\n",
       "    <tr>\n",
       "      <th>992</th>\n",
       "      <td>1.15</td>\n",
       "      <td>0.229979</td>\n",
       "      <td>1</td>\n",
       "      <td>20657.129944</td>\n",
       "      <td>STNWG</td>\n",
       "      <td>4</td>\n",
       "      <td>M</td>\n",
       "      <td>E</td>\n",
       "      <td>2</td>\n",
       "    </tr>\n",
       "    <tr>\n",
       "      <th>993</th>\n",
       "      <td>4.49</td>\n",
       "      <td>0.375086</td>\n",
       "      <td>1</td>\n",
       "      <td>558.900000</td>\n",
       "      <td>STNWG</td>\n",
       "      <td>1</td>\n",
       "      <td>M</td>\n",
       "      <td>C</td>\n",
       "      <td>5</td>\n",
       "    </tr>\n",
       "    <tr>\n",
       "      <th>994</th>\n",
       "      <td>0.92</td>\n",
       "      <td>0.744695</td>\n",
       "      <td>1</td>\n",
       "      <td>353.770000</td>\n",
       "      <td>HBACK</td>\n",
       "      <td>3</td>\n",
       "      <td>F</td>\n",
       "      <td>A</td>\n",
       "      <td>4</td>\n",
       "    </tr>\n",
       "    <tr>\n",
       "      <th>995</th>\n",
       "      <td>0.92</td>\n",
       "      <td>0.594114</td>\n",
       "      <td>1</td>\n",
       "      <td>1013.839996</td>\n",
       "      <td>HBACK</td>\n",
       "      <td>3</td>\n",
       "      <td>F</td>\n",
       "      <td>A</td>\n",
       "      <td>4</td>\n",
       "    </tr>\n",
       "  </tbody>\n",
       "</table>\n",
       "<p>996 rows × 9 columns</p>\n",
       "</div>"
      ],
      "text/plain": [
       "     valorv     expos  nsinistros    csinistros  tipov  idadev sexoc areac  \\\n",
       "0      1.66  0.484600           1    669.509999  SEDAN       3     M     B   \n",
       "1      1.51  0.993840           1    806.609999  SEDAN       3     F     F   \n",
       "2      0.76  0.539357           1    401.805451  HBACK       3     M     C   \n",
       "3      1.89  0.654346           2   1811.709997  STNWG       3     M     F   \n",
       "4      4.06  0.851472           1   5434.439987  STNWG       2     M     F   \n",
       "..      ...       ...         ...           ...    ...     ...   ...   ...   \n",
       "991    2.02  0.859685           1   3723.636360  HDTOP       3     M     F   \n",
       "992    1.15  0.229979           1  20657.129944  STNWG       4     M     E   \n",
       "993    4.49  0.375086           1    558.900000  STNWG       1     M     C   \n",
       "994    0.92  0.744695           1    353.770000  HBACK       3     F     A   \n",
       "995    0.92  0.594114           1   1013.839996  HBACK       3     F     A   \n",
       "\n",
       "     idadec  \n",
       "0         6  \n",
       "1         4  \n",
       "2         4  \n",
       "3         2  \n",
       "4         3  \n",
       "..      ...  \n",
       "991       3  \n",
       "992       2  \n",
       "993       5  \n",
       "994       4  \n",
       "995       4  \n",
       "\n",
       "[996 rows x 9 columns]"
      ]
     },
     "execution_count": 2,
     "metadata": {},
     "output_type": "execute_result"
    }
   ],
   "source": [
    "df = pd.read_csv(\"claims.csv\", delimiter=\";\", decimal=\",\")\n",
    "df"
   ]
  },
  {
   "cell_type": "markdown",
   "id": "cf69289a-0142-499e-b68c-5b9f403e1dbb",
   "metadata": {},
   "source": [
    "** a) ** Make a descriptive analysis of the data and try to group in a smaller number of categories some categorical variables. Consider as a variable Response (target) cmsinisters = CSINSTRINES/NSINS."
   ]
  },
  {
   "cell_type": "code",
   "execution_count": 3,
   "id": "61e0caeb-3654-4dc9-8f27-94e30a1be3e8",
   "metadata": {},
   "outputs": [],
   "source": [
    "# Variable Response CMSINSTROS\n",
    "df['cmsinistros'] = df['csinistros'] / df['nsinistros']"
   ]
  },
  {
   "cell_type": "code",
   "execution_count": 4,
   "id": "5552627a-2b40-41f1-8f4f-ee7e95e6895f",
   "metadata": {},
   "outputs": [
    {
     "name": "stdout",
     "output_type": "stream",
     "text": [
      "Estatísticas Descritivas das Variáveis Numéricas:\n"
     ]
    },
    {
     "data": {
      "text/html": [
       "<div>\n",
       "<style scoped>\n",
       "    .dataframe tbody tr th:only-of-type {\n",
       "        vertical-align: middle;\n",
       "    }\n",
       "\n",
       "    .dataframe tbody tr th {\n",
       "        vertical-align: top;\n",
       "    }\n",
       "\n",
       "    .dataframe thead th {\n",
       "        text-align: right;\n",
       "    }\n",
       "</style>\n",
       "<table border=\"1\" class=\"dataframe\">\n",
       "  <thead>\n",
       "    <tr style=\"text-align: right;\">\n",
       "      <th></th>\n",
       "      <th>valorv</th>\n",
       "      <th>expos</th>\n",
       "      <th>nsinistros</th>\n",
       "      <th>csinistros</th>\n",
       "      <th>cmsinistros</th>\n",
       "    </tr>\n",
       "  </thead>\n",
       "  <tbody>\n",
       "    <tr>\n",
       "      <th>count</th>\n",
       "      <td>996.000000</td>\n",
       "      <td>996.000000</td>\n",
       "      <td>996.000000</td>\n",
       "      <td>996.000000</td>\n",
       "      <td>996.000000</td>\n",
       "    </tr>\n",
       "    <tr>\n",
       "      <th>mean</th>\n",
       "      <td>1.858742</td>\n",
       "      <td>0.614804</td>\n",
       "      <td>1.061245</td>\n",
       "      <td>1837.106591</td>\n",
       "      <td>1731.349425</td>\n",
       "    </tr>\n",
       "    <tr>\n",
       "      <th>std</th>\n",
       "      <td>1.086844</td>\n",
       "      <td>0.254148</td>\n",
       "      <td>0.267623</td>\n",
       "      <td>3112.527127</td>\n",
       "      <td>2952.122267</td>\n",
       "    </tr>\n",
       "    <tr>\n",
       "      <th>min</th>\n",
       "      <td>0.000000</td>\n",
       "      <td>0.005476</td>\n",
       "      <td>1.000000</td>\n",
       "      <td>200.000000</td>\n",
       "      <td>200.000000</td>\n",
       "    </tr>\n",
       "    <tr>\n",
       "      <th>25%</th>\n",
       "      <td>1.130000</td>\n",
       "      <td>0.443532</td>\n",
       "      <td>1.000000</td>\n",
       "      <td>353.770000</td>\n",
       "      <td>353.770000</td>\n",
       "    </tr>\n",
       "    <tr>\n",
       "      <th>50%</th>\n",
       "      <td>1.600000</td>\n",
       "      <td>0.616016</td>\n",
       "      <td>1.000000</td>\n",
       "      <td>697.440000</td>\n",
       "      <td>643.585000</td>\n",
       "    </tr>\n",
       "    <tr>\n",
       "      <th>75%</th>\n",
       "      <td>2.350000</td>\n",
       "      <td>0.848734</td>\n",
       "      <td>1.000000</td>\n",
       "      <td>1866.389999</td>\n",
       "      <td>1787.602498</td>\n",
       "    </tr>\n",
       "    <tr>\n",
       "      <th>max</th>\n",
       "      <td>7.199000</td>\n",
       "      <td>0.999316</td>\n",
       "      <td>4.000000</td>\n",
       "      <td>26507.294983</td>\n",
       "      <td>26507.294983</td>\n",
       "    </tr>\n",
       "  </tbody>\n",
       "</table>\n",
       "</div>"
      ],
      "text/plain": [
       "           valorv       expos  nsinistros    csinistros   cmsinistros\n",
       "count  996.000000  996.000000  996.000000    996.000000    996.000000\n",
       "mean     1.858742    0.614804    1.061245   1837.106591   1731.349425\n",
       "std      1.086844    0.254148    0.267623   3112.527127   2952.122267\n",
       "min      0.000000    0.005476    1.000000    200.000000    200.000000\n",
       "25%      1.130000    0.443532    1.000000    353.770000    353.770000\n",
       "50%      1.600000    0.616016    1.000000    697.440000    643.585000\n",
       "75%      2.350000    0.848734    1.000000   1866.389999   1787.602498\n",
       "max      7.199000    0.999316    4.000000  26507.294983  26507.294983"
      ]
     },
     "execution_count": 4,
     "metadata": {},
     "output_type": "execute_result"
    }
   ],
   "source": [
    "# Descriptive Analysis\n",
    "print(\"Estatísticas Descritivas das Variáveis Numéricas:\")\n",
    "df[['valorv', 'expos', 'nsinistros', 'csinistros', 'cmsinistros']].describe()"
   ]
  },
  {
   "cell_type": "code",
   "execution_count": 5,
   "id": "2c11e07e-b3ea-4aa9-8599-c2aef71aba24",
   "metadata": {},
   "outputs": [],
   "source": [
    "cmsinistros_masculino = df[df['sexoc'] == 'Masculino']['cmsinistros']\n",
    "cmsinistros_feminino = df[df['sexoc'] == 'Feminino']['cmsinistros']"
   ]
  },
  {
   "cell_type": "code",
   "execution_count": 6,
   "id": "4e507688-7907-4d55-b187-7f8b843d5c63",
   "metadata": {},
   "outputs": [
    {
     "data": {
      "image/png": "[encoded data removed]",
      "text/plain": [
       "<Figure size 800x600 with 1 Axes>"
      ]
     },
     "metadata": {},
     "output_type": "display_data"
    }
   ],
   "source": [
    "# Visualization\n",
    "plt.figure(figsize=(8, 6))\n",
    "sns.boxplot(x='sexoc', y='cmsinistros', data=df, palette='muted')\n",
    "plt.title(\"Distribuição de cmsinistros por Sexo\")\n",
    "plt.show()"
   ]
  },
  {
   "cell_type": "markdown",
   "id": "574989db-7aab-4743-b857-4a42c98f4bfa",
   "metadata": {},
   "source": [
    "** b) ** What is the ratio of the variable cmsinisters with sex? Is any sex higher on average? Can you defend your argument using the techniques you studied?"
   ]
  },
  {
   "cell_type": "code",
   "execution_count": 7,
   "id": "da40001c-c26f-4197-9e16-df0578144a1a",
   "metadata": {},
   "outputs": [
    {
     "name": "stdout",
     "output_type": "stream",
     "text": [
      "Médias de cmsinistros por sexo:\n"
     ]
    },
    {
     "data": {
      "text/plain": [
       "sexoc\n",
       "F    1643.213070\n",
       "M    1847.837336\n",
       "Name: cmsinistros, dtype: float64"
      ]
     },
     "execution_count": 7,
     "metadata": {},
     "output_type": "execute_result"
    }
   ],
   "source": [
    "cmsinistros_means_by_gender = df.groupby('sexoc')['cmsinistros'].mean()\n",
    "print(\"Médias de cmsinistros por sexo:\")\n",
    "cmsinistros_means_by_gender"
   ]
  },
  {
   "cell_type": "code",
   "execution_count": 8,
   "id": "03e69811-ee95-42f7-ad3e-853c22fc8f9d",
   "metadata": {},
   "outputs": [
    {
     "data": {
      "image/png": "[encoded data removed]",
      "text/plain": [
       "<Figure size 1000x600 with 1 Axes>"
      ]
     },
     "metadata": {},
     "output_type": "display_data"
    }
   ],
   "source": [
    "plt.figure(figsize=(10, 6)) \n",
    "sns.boxplot(x='idadec', y='cmsinistros', hue='sexoc', data=df, palette='muted')\n",
    "plt.title(\"Distribuição de cmsinistros por Idade do Condutor e Sexo\")\n",
    "plt.show()"
   ]
  },
  {
   "cell_type": "markdown",
   "id": "2b7bbbc1-2182-4469-9d64-f2b006fa3429",
   "metadata": {},
   "source": [
    "** c) ** Study cmsinisters in relation to the age of the driver. Does your impression change if we add the sex variable?"
   ]
  },
  {
   "cell_type": "code",
   "execution_count": 9,
   "id": "2abce7fa-49c3-46e1-a848-5ef4c2203950",
   "metadata": {},
   "outputs": [
    {
     "name": "stdout",
     "output_type": "stream",
     "text": [
      "Média de cmsinistros por idade:\n",
      "idadec\n",
      "1    2269.896792\n",
      "2    2038.275348\n",
      "3    1522.014118\n",
      "4    1354.427201\n",
      "5    1500.364602\n",
      "6    2218.380752\n",
      "Name: cmsinistros, dtype: float64\n"
     ]
    }
   ],
   "source": [
    "# Grouping and calculation of the average of CMSinisters by age group\n",
    "cmsinistros_por_idade = df.groupby('idadec')['cmsinistros'].mean()\n",
    "print(\"Média de cmsinistros por idade:\")\n",
    "print(cmsinistros_por_idade)"
   ]
  },
  {
   "cell_type": "code",
   "execution_count": 10,
   "id": "0f76524e-9b85-4bf7-9fc0-5f9293ebe7a2",
   "metadata": {},
   "outputs": [
    {
     "name": "stdout",
     "output_type": "stream",
     "text": [
      "\n",
      "Média de cmsinistros por idade e sexo:\n"
     ]
    },
    {
     "data": {
      "text/plain": [
       "idadec  sexoc\n",
       "1       F        1703.457561\n",
       "        M        3088.086792\n",
       "2       F        2161.324213\n",
       "        M        1854.443310\n",
       "3       F        1420.526888\n",
       "        M        1660.891381\n",
       "4       F        1290.286782\n",
       "        M        1444.223787\n",
       "5       F        1425.187239\n",
       "        M        1581.152216\n",
       "6       F        2187.970886\n",
       "        M        2248.099485\n",
       "Name: cmsinistros, dtype: float64"
      ]
     },
     "execution_count": 10,
     "metadata": {},
     "output_type": "execute_result"
    }
   ],
   "source": [
    "# Grouping by age and gender, and calculation of the average of cmsinisters\n",
    "cmsinistros_por_idade_sexo = df.groupby(['idadec', 'sexoc'])['cmsinistros'].mean()\n",
    "print(\"\\nMédia de cmsinistros por idade e sexo:\")\n",
    "cmsinistros_por_idade_sexo"
   ]
  },
  {
   "cell_type": "code",
   "execution_count": 11,
   "id": "258284ea-e24f-4f01-9173-7e689acf9b8b",
   "metadata": {},
   "outputs": [
    {
     "data": {
      "image/png": "[encoded data removed]",
      "text/plain": [
       "<Figure size 640x480 with 1 Axes>"
      ]
     },
     "metadata": {},
     "output_type": "display_data"
    },
    {
     "data": {
      "image/png": "[encoded data removed]",
      "text/plain": [
       "<Figure size 640x480 with 1 Axes>"
      ]
     },
     "metadata": {},
     "output_type": "display_data"
    }
   ],
   "source": [
    "# Chart can compare averages by age and gender\n",
    "cmsinistros_por_idade.plot(kind='bar', title='Média de cmsinistros por Idade', ylabel='Média de cmsinistros', xlabel='Idade do Condutor')\n",
    "cmsinistros_por_idade_sexo.unstack().plot(kind='bar', title='Média de cmsinistros por Idade e Sexo', ylabel='Média de cmsinistros', xlabel='Idade do Condutor')\n",
    "plt.show()"
   ]
  },
  {
   "cell_type": "markdown",
   "id": "d054e073-ed42-44dc-a678-f20d80c51950",
   "metadata": {},
   "source": [
    "** d) ** Is there a clear ratio of increased risk of risk in relation to vehicle value?"
   ]
  },
  {
   "cell_type": "code",
   "execution_count": 12,
   "id": "b696e0c5-b38b-4c1b-9ec9-5e020b10701f",
   "metadata": {},
   "outputs": [
    {
     "name": "stdout",
     "output_type": "stream",
     "text": [
      "Correlação entre cmsinistros e valorv: -0.030906830909246955\n"
     ]
    }
   ],
   "source": [
    "## Correlation between and cmsinstros x valuev\n",
    "\n",
    "data_corr_sin = df['cmsinistros'].corr(df['valorv'])\n",
    "print(f\"Correlação entre cmsinistros e valorv: {data_corr_sin}\")"
   ]
  },
  {
   "cell_type": "code",
   "execution_count": 13,
   "id": "0195a984-b630-4083-bf7e-89af0368a5d7",
   "metadata": {},
   "outputs": [
    {
     "data": {
      "image/png": "[encoded data removed]",
      "text/plain": [
       "<Figure size 1000x600 with 1 Axes>"
      ]
     },
     "metadata": {},
     "output_type": "display_data"
    }
   ],
   "source": [
    "# Graph shows the dispersion to see a relationship between cmsinstros and valuev\n",
    "\n",
    "plt.figure(figsize=(10, 6))\n",
    "sns.scatterplot(data=df, x='valorv', y='cmsinistros')\n",
    "plt.title('Relação entre Valor do Veículo e Custo de Sinistros')\n",
    "plt.xlabel('Valor do Veículo (em 10,000 AUD)')\n",
    "plt.ylabel('Custo de Sinistros (cmsinistros)')\n",
    "plt.show()"
   ]
  },
  {
   "cell_type": "markdown",
   "id": "61477bec-2825-43e9-b71e-69749d3f88e3",
   "metadata": {},
   "source": [
    "** e) ** Make a sample -simple (200) -stratified (100 male and 100 female)"
   ]
  },
  {
   "cell_type": "code",
   "execution_count": 14,
   "id": "f96bed80-1a3a-43c2-b13b-a694a5366c1f",
   "metadata": {},
   "outputs": [
    {
     "data": {
      "text/html": [
       "<div>\n",
       "<style scoped>\n",
       "    .dataframe tbody tr th:only-of-type {\n",
       "        vertical-align: middle;\n",
       "    }\n",
       "\n",
       "    .dataframe tbody tr th {\n",
       "        vertical-align: top;\n",
       "    }\n",
       "\n",
       "    .dataframe thead th {\n",
       "        text-align: right;\n",
       "    }\n",
       "</style>\n",
       "<table border=\"1\" class=\"dataframe\">\n",
       "  <thead>\n",
       "    <tr style=\"text-align: right;\">\n",
       "      <th></th>\n",
       "      <th>valorv</th>\n",
       "      <th>expos</th>\n",
       "      <th>nsinistros</th>\n",
       "      <th>csinistros</th>\n",
       "      <th>tipov</th>\n",
       "      <th>idadev</th>\n",
       "      <th>sexoc</th>\n",
       "      <th>areac</th>\n",
       "      <th>idadec</th>\n",
       "      <th>cmsinistros</th>\n",
       "    </tr>\n",
       "  </thead>\n",
       "  <tbody>\n",
       "    <tr>\n",
       "      <th>832</th>\n",
       "      <td>0.95</td>\n",
       "      <td>0.777550</td>\n",
       "      <td>1</td>\n",
       "      <td>389.950000</td>\n",
       "      <td>HBACK</td>\n",
       "      <td>3</td>\n",
       "      <td>F</td>\n",
       "      <td>F</td>\n",
       "      <td>1</td>\n",
       "      <td>389.950000</td>\n",
       "    </tr>\n",
       "    <tr>\n",
       "      <th>970</th>\n",
       "      <td>1.34</td>\n",
       "      <td>0.555784</td>\n",
       "      <td>1</td>\n",
       "      <td>953.849998</td>\n",
       "      <td>SEDAN</td>\n",
       "      <td>3</td>\n",
       "      <td>M</td>\n",
       "      <td>B</td>\n",
       "      <td>6</td>\n",
       "      <td>953.849998</td>\n",
       "    </tr>\n",
       "    <tr>\n",
       "      <th>96</th>\n",
       "      <td>2.20</td>\n",
       "      <td>0.799452</td>\n",
       "      <td>1</td>\n",
       "      <td>1244.160000</td>\n",
       "      <td>HBACK</td>\n",
       "      <td>1</td>\n",
       "      <td>F</td>\n",
       "      <td>B</td>\n",
       "      <td>6</td>\n",
       "      <td>1244.160000</td>\n",
       "    </tr>\n",
       "    <tr>\n",
       "      <th>587</th>\n",
       "      <td>0.97</td>\n",
       "      <td>0.873374</td>\n",
       "      <td>1</td>\n",
       "      <td>3563.909996</td>\n",
       "      <td>HBACK</td>\n",
       "      <td>3</td>\n",
       "      <td>F</td>\n",
       "      <td>B</td>\n",
       "      <td>6</td>\n",
       "      <td>3563.909996</td>\n",
       "    </tr>\n",
       "    <tr>\n",
       "      <th>450</th>\n",
       "      <td>1.89</td>\n",
       "      <td>0.807666</td>\n",
       "      <td>1</td>\n",
       "      <td>243.550000</td>\n",
       "      <td>SEDAN</td>\n",
       "      <td>2</td>\n",
       "      <td>F</td>\n",
       "      <td>C</td>\n",
       "      <td>4</td>\n",
       "      <td>243.550000</td>\n",
       "    </tr>\n",
       "    <tr>\n",
       "      <th>...</th>\n",
       "      <td>...</td>\n",
       "      <td>...</td>\n",
       "      <td>...</td>\n",
       "      <td>...</td>\n",
       "      <td>...</td>\n",
       "      <td>...</td>\n",
       "      <td>...</td>\n",
       "      <td>...</td>\n",
       "      <td>...</td>\n",
       "      <td>...</td>\n",
       "    </tr>\n",
       "    <tr>\n",
       "      <th>490</th>\n",
       "      <td>2.99</td>\n",
       "      <td>0.588638</td>\n",
       "      <td>1</td>\n",
       "      <td>200.000000</td>\n",
       "      <td>HDTOP</td>\n",
       "      <td>1</td>\n",
       "      <td>F</td>\n",
       "      <td>A</td>\n",
       "      <td>3</td>\n",
       "      <td>200.000000</td>\n",
       "    </tr>\n",
       "    <tr>\n",
       "      <th>855</th>\n",
       "      <td>2.61</td>\n",
       "      <td>0.539357</td>\n",
       "      <td>1</td>\n",
       "      <td>848.539999</td>\n",
       "      <td>SEDAN</td>\n",
       "      <td>1</td>\n",
       "      <td>M</td>\n",
       "      <td>A</td>\n",
       "      <td>4</td>\n",
       "      <td>848.539999</td>\n",
       "    </tr>\n",
       "    <tr>\n",
       "      <th>65</th>\n",
       "      <td>0.46</td>\n",
       "      <td>0.903491</td>\n",
       "      <td>1</td>\n",
       "      <td>265.000000</td>\n",
       "      <td>SEDAN</td>\n",
       "      <td>4</td>\n",
       "      <td>M</td>\n",
       "      <td>B</td>\n",
       "      <td>3</td>\n",
       "      <td>265.000000</td>\n",
       "    </tr>\n",
       "    <tr>\n",
       "      <th>141</th>\n",
       "      <td>3.18</td>\n",
       "      <td>0.388775</td>\n",
       "      <td>2</td>\n",
       "      <td>2212.689998</td>\n",
       "      <td>STNWG</td>\n",
       "      <td>2</td>\n",
       "      <td>F</td>\n",
       "      <td>A</td>\n",
       "      <td>5</td>\n",
       "      <td>1106.344999</td>\n",
       "    </tr>\n",
       "    <tr>\n",
       "      <th>827</th>\n",
       "      <td>1.05</td>\n",
       "      <td>0.780287</td>\n",
       "      <td>1</td>\n",
       "      <td>633.339999</td>\n",
       "      <td>SEDAN</td>\n",
       "      <td>3</td>\n",
       "      <td>M</td>\n",
       "      <td>B</td>\n",
       "      <td>4</td>\n",
       "      <td>633.339999</td>\n",
       "    </tr>\n",
       "  </tbody>\n",
       "</table>\n",
       "<p>200 rows × 10 columns</p>\n",
       "</div>"
      ],
      "text/plain": [
       "     valorv     expos  nsinistros   csinistros  tipov  idadev sexoc areac  \\\n",
       "832    0.95  0.777550           1   389.950000  HBACK       3     F     F   \n",
       "970    1.34  0.555784           1   953.849998  SEDAN       3     M     B   \n",
       "96     2.20  0.799452           1  1244.160000  HBACK       1     F     B   \n",
       "587    0.97  0.873374           1  3563.909996  HBACK       3     F     B   \n",
       "450    1.89  0.807666           1   243.550000  SEDAN       2     F     C   \n",
       "..      ...       ...         ...          ...    ...     ...   ...   ...   \n",
       "490    2.99  0.588638           1   200.000000  HDTOP       1     F     A   \n",
       "855    2.61  0.539357           1   848.539999  SEDAN       1     M     A   \n",
       "65     0.46  0.903491           1   265.000000  SEDAN       4     M     B   \n",
       "141    3.18  0.388775           2  2212.689998  STNWG       2     F     A   \n",
       "827    1.05  0.780287           1   633.339999  SEDAN       3     M     B   \n",
       "\n",
       "     idadec  cmsinistros  \n",
       "832       1   389.950000  \n",
       "970       6   953.849998  \n",
       "96        6  1244.160000  \n",
       "587       6  3563.909996  \n",
       "450       4   243.550000  \n",
       "..      ...          ...  \n",
       "490       3   200.000000  \n",
       "855       4   848.539999  \n",
       "65        3   265.000000  \n",
       "141       5  1106.344999  \n",
       "827       4   633.339999  \n",
       "\n",
       "[200 rows x 10 columns]"
      ]
     },
     "execution_count": 14,
     "metadata": {},
     "output_type": "execute_result"
    }
   ],
   "source": [
    "sample_1 = df.sample(n=200, random_state=42)\n",
    "sample_1"
   ]
  },
  {
   "cell_type": "code",
   "execution_count": 15,
   "id": "189e5ab5-a201-4f1d-be81-985dcdef4489",
   "metadata": {},
   "outputs": [
    {
     "name": "stdout",
     "output_type": "stream",
     "text": [
      "\n",
      "Amostra Estratificada (100 Masculino, 100 Feminino)\n"
     ]
    },
    {
     "data": {
      "text/html": [
       "<div>\n",
       "<style scoped>\n",
       "    .dataframe tbody tr th:only-of-type {\n",
       "        vertical-align: middle;\n",
       "    }\n",
       "\n",
       "    .dataframe tbody tr th {\n",
       "        vertical-align: top;\n",
       "    }\n",
       "\n",
       "    .dataframe thead th {\n",
       "        text-align: right;\n",
       "    }\n",
       "</style>\n",
       "<table border=\"1\" class=\"dataframe\">\n",
       "  <thead>\n",
       "    <tr style=\"text-align: right;\">\n",
       "      <th></th>\n",
       "      <th>valorv</th>\n",
       "      <th>expos</th>\n",
       "      <th>nsinistros</th>\n",
       "      <th>csinistros</th>\n",
       "      <th>tipov</th>\n",
       "      <th>idadev</th>\n",
       "      <th>sexoc</th>\n",
       "      <th>areac</th>\n",
       "      <th>idadec</th>\n",
       "      <th>cmsinistros</th>\n",
       "    </tr>\n",
       "  </thead>\n",
       "  <tbody>\n",
       "    <tr>\n",
       "      <th>945</th>\n",
       "      <td>4.23</td>\n",
       "      <td>0.481862</td>\n",
       "      <td>1</td>\n",
       "      <td>389.950000</td>\n",
       "      <td>STNWG</td>\n",
       "      <td>2</td>\n",
       "      <td>F</td>\n",
       "      <td>D</td>\n",
       "      <td>2</td>\n",
       "      <td>389.950000</td>\n",
       "    </tr>\n",
       "    <tr>\n",
       "      <th>916</th>\n",
       "      <td>2.37</td>\n",
       "      <td>0.561259</td>\n",
       "      <td>1</td>\n",
       "      <td>200.000000</td>\n",
       "      <td>HDTOP</td>\n",
       "      <td>2</td>\n",
       "      <td>F</td>\n",
       "      <td>C</td>\n",
       "      <td>2</td>\n",
       "      <td>200.000000</td>\n",
       "    </tr>\n",
       "    <tr>\n",
       "      <th>417</th>\n",
       "      <td>2.59</td>\n",
       "      <td>0.991102</td>\n",
       "      <td>1</td>\n",
       "      <td>353.770000</td>\n",
       "      <td>SEDAN</td>\n",
       "      <td>1</td>\n",
       "      <td>F</td>\n",
       "      <td>D</td>\n",
       "      <td>2</td>\n",
       "      <td>353.770000</td>\n",
       "    </tr>\n",
       "    <tr>\n",
       "      <th>918</th>\n",
       "      <td>1.95</td>\n",
       "      <td>0.955510</td>\n",
       "      <td>1</td>\n",
       "      <td>6675.579987</td>\n",
       "      <td>UTE</td>\n",
       "      <td>3</td>\n",
       "      <td>F</td>\n",
       "      <td>D</td>\n",
       "      <td>5</td>\n",
       "      <td>6675.579987</td>\n",
       "    </tr>\n",
       "    <tr>\n",
       "      <th>862</th>\n",
       "      <td>0.50</td>\n",
       "      <td>0.361396</td>\n",
       "      <td>1</td>\n",
       "      <td>200.000000</td>\n",
       "      <td>SEDAN</td>\n",
       "      <td>4</td>\n",
       "      <td>F</td>\n",
       "      <td>B</td>\n",
       "      <td>4</td>\n",
       "      <td>200.000000</td>\n",
       "    </tr>\n",
       "  </tbody>\n",
       "</table>\n",
       "</div>"
      ],
      "text/plain": [
       "     valorv     expos  nsinistros   csinistros  tipov  idadev sexoc areac  \\\n",
       "945    4.23  0.481862           1   389.950000  STNWG       2     F     D   \n",
       "916    2.37  0.561259           1   200.000000  HDTOP       2     F     C   \n",
       "417    2.59  0.991102           1   353.770000  SEDAN       1     F     D   \n",
       "918    1.95  0.955510           1  6675.579987    UTE       3     F     D   \n",
       "862    0.50  0.361396           1   200.000000  SEDAN       4     F     B   \n",
       "\n",
       "     idadec  cmsinistros  \n",
       "945       2   389.950000  \n",
       "916       2   200.000000  \n",
       "417       2   353.770000  \n",
       "918       5  6675.579987  \n",
       "862       4   200.000000  "
      ]
     },
     "execution_count": 15,
     "metadata": {},
     "output_type": "execute_result"
    }
   ],
   "source": [
    "# Stratified Sample - 100 Men 100 Women\n",
    "amostra_estratificada = df.groupby('sexoc', group_keys=False).apply(lambda x: x.sample(min(len(x), 100), random_state=42))\n",
    "print(\"\\nAmostra Estratificada (100 Masculino, 100 Feminino)\")\n",
    "amostra_estratificada.head()"
   ]
  },
  {
   "cell_type": "code",
   "execution_count": 16,
   "id": "63e2e102-01ca-4ffb-8d66-96ed6581fae0",
   "metadata": {},
   "outputs": [
    {
     "data": {
      "image/png": "[encoded data removed]",
      "text/plain": [
       "<Figure size 1000x600 with 1 Axes>"
      ]
     },
     "metadata": {},
     "output_type": "display_data"
    }
   ],
   "source": [
    "# Boxplots to compare cmsinister distributions in the samples\n",
    "plt.figure(figsize=(10, 6))\n",
    "sns.boxplot(data=[sample_1['cmsinistros'], amostra_estratificada['cmsinistros']], palette='muted')\n",
    "plt.xticks([0, 1], ['Amostra Aleatória Simples', 'Amostra Estratificada'])\n",
    "plt.title(\"Comparação de cmsinistros nas Amostras\")\n",
    "plt.ylabel(\"Custo Médio dos Sinistros (cmsinistros)\")\n",
    "plt.show()"
   ]
  },
  {
   "cell_type": "markdown",
   "id": "a69f7a04-50fa-4317-a5de-e957eaf71e12",
   "metadata": {},
   "source": [
    "** Question 2 **"
   ]
  },
  {
   "cell_type": "markdown",
   "id": "ffc3fb12-b232-4ade-91e3-038b6ec8f9a9",
   "metadata": {},
   "source": [
    "For this exercise will be used the data regarding a case-control study conducted in the Anatomy and Pathology sector of Heliópolis Hospital in São Paulo, from 1970 to 1982 (CANC3.CSV). A total of 175 patients with infectious pulmonary process treated at the hospital in the period above was classified according to the following variables: Type, Tumor Type (1: Malignant, 0: benign); Age, age in years; Sex (0: male, 1: feminine); HL, intensity of the historical-lymphocyte cell (1: absent, 2: discreet, 3: moderate, 4: intense) and FF, fibros-froux cell intensity (1: absent, 2: discreet, 3: moderate, 4: intense)."
   ]
  },
  {
   "cell_type": "code",
   "execution_count": 17,
   "id": "b7678aa1-46e9-4dce-a5f2-52b02ca912bb",
   "metadata": {},
   "outputs": [
    {
     "data": {
      "text/html": [
       "<div>\n",
       "<style scoped>\n",
       "    .dataframe tbody tr th:only-of-type {\n",
       "        vertical-align: middle;\n",
       "    }\n",
       "\n",
       "    .dataframe tbody tr th {\n",
       "        vertical-align: top;\n",
       "    }\n",
       "\n",
       "    .dataframe thead th {\n",
       "        text-align: right;\n",
       "    }\n",
       "</style>\n",
       "<table border=\"1\" class=\"dataframe\">\n",
       "  <thead>\n",
       "    <tr style=\"text-align: right;\">\n",
       "      <th></th>\n",
       "      <th>tipo</th>\n",
       "      <th>idade</th>\n",
       "      <th>sexo</th>\n",
       "      <th>hl</th>\n",
       "      <th>ff</th>\n",
       "    </tr>\n",
       "  </thead>\n",
       "  <tbody>\n",
       "    <tr>\n",
       "      <th>0</th>\n",
       "      <td>0</td>\n",
       "      <td>26</td>\n",
       "      <td>1</td>\n",
       "      <td>3</td>\n",
       "      <td>1</td>\n",
       "    </tr>\n",
       "    <tr>\n",
       "      <th>1</th>\n",
       "      <td>0</td>\n",
       "      <td>21</td>\n",
       "      <td>1</td>\n",
       "      <td>3</td>\n",
       "      <td>1</td>\n",
       "    </tr>\n",
       "    <tr>\n",
       "      <th>2</th>\n",
       "      <td>0</td>\n",
       "      <td>45</td>\n",
       "      <td>1</td>\n",
       "      <td>3</td>\n",
       "      <td>3</td>\n",
       "    </tr>\n",
       "    <tr>\n",
       "      <th>3</th>\n",
       "      <td>0</td>\n",
       "      <td>19</td>\n",
       "      <td>2</td>\n",
       "      <td>4</td>\n",
       "      <td>3</td>\n",
       "    </tr>\n",
       "    <tr>\n",
       "      <th>4</th>\n",
       "      <td>0</td>\n",
       "      <td>16</td>\n",
       "      <td>2</td>\n",
       "      <td>4</td>\n",
       "      <td>3</td>\n",
       "    </tr>\n",
       "    <tr>\n",
       "      <th>...</th>\n",
       "      <td>...</td>\n",
       "      <td>...</td>\n",
       "      <td>...</td>\n",
       "      <td>...</td>\n",
       "      <td>...</td>\n",
       "    </tr>\n",
       "    <tr>\n",
       "      <th>170</th>\n",
       "      <td>1</td>\n",
       "      <td>75</td>\n",
       "      <td>2</td>\n",
       "      <td>1</td>\n",
       "      <td>2</td>\n",
       "    </tr>\n",
       "    <tr>\n",
       "      <th>171</th>\n",
       "      <td>1</td>\n",
       "      <td>55</td>\n",
       "      <td>2</td>\n",
       "      <td>3</td>\n",
       "      <td>3</td>\n",
       "    </tr>\n",
       "    <tr>\n",
       "      <th>172</th>\n",
       "      <td>1</td>\n",
       "      <td>50</td>\n",
       "      <td>2</td>\n",
       "      <td>2</td>\n",
       "      <td>1</td>\n",
       "    </tr>\n",
       "    <tr>\n",
       "      <th>173</th>\n",
       "      <td>1</td>\n",
       "      <td>57</td>\n",
       "      <td>2</td>\n",
       "      <td>3</td>\n",
       "      <td>1</td>\n",
       "    </tr>\n",
       "    <tr>\n",
       "      <th>174</th>\n",
       "      <td>1</td>\n",
       "      <td>70</td>\n",
       "      <td>2</td>\n",
       "      <td>2</td>\n",
       "      <td>1</td>\n",
       "    </tr>\n",
       "  </tbody>\n",
       "</table>\n",
       "<p>175 rows × 5 columns</p>\n",
       "</div>"
      ],
      "text/plain": [
       "     tipo  idade  sexo  hl  ff\n",
       "0       0     26     1   3   1\n",
       "1       0     21     1   3   1\n",
       "2       0     45     1   3   3\n",
       "3       0     19     2   4   3\n",
       "4       0     16     2   4   3\n",
       "..    ...    ...   ...  ..  ..\n",
       "170     1     75     2   1   2\n",
       "171     1     55     2   3   3\n",
       "172     1     50     2   2   1\n",
       "173     1     57     2   3   1\n",
       "174     1     70     2   2   1\n",
       "\n",
       "[175 rows x 5 columns]"
      ]
     },
     "execution_count": 17,
     "metadata": {},
     "output_type": "execute_result"
    }
   ],
   "source": [
    "df = pd.read_csv(\"canc3.csv\",sep=\";\")\n",
    "df"
   ]
  },
  {
   "cell_type": "markdown",
   "id": "6cc27488-2f02-4a2c-aca8-1ff9143c8d2f",
   "metadata": {},
   "source": [
    "** a) ** Make a descriptive analysis of the problem variables."
   ]
  },
  {
   "cell_type": "code",
   "execution_count": 18,
   "id": "d7f080fb-0223-415f-941f-49b094846594",
   "metadata": {},
   "outputs": [
    {
     "data": {
      "text/plain": [
       "tipo\n",
       "0    104\n",
       "1     71\n",
       "Name: count, dtype: int64"
      ]
     },
     "execution_count": 18,
     "metadata": {},
     "output_type": "execute_result"
    }
   ],
   "source": [
    "# Malignant and benign tumors\n",
    "df['tipo'].value_counts()"
   ]
  },
  {
   "cell_type": "code",
   "execution_count": 19,
   "id": "8f95a8a4-5251-4c60-8d4f-a40ee282cfdf",
   "metadata": {},
   "outputs": [
    {
     "data": {
      "text/plain": [
       "sexo\n",
       "1    126\n",
       "2     49\n",
       "Name: count, dtype: int64"
      ]
     },
     "execution_count": 19,
     "metadata": {},
     "output_type": "execute_result"
    }
   ],
   "source": [
    "# Sex\n",
    "df['sexo'].value_counts()"
   ]
  },
  {
   "cell_type": "code",
   "execution_count": 20,
   "id": "0670a36e-e604-4951-bd8e-fac33495a904",
   "metadata": {},
   "outputs": [
    {
     "data": {
      "text/plain": [
       "hl\n",
       "3    86\n",
       "2    67\n",
       "4    14\n",
       "1     8\n",
       "Name: count, dtype: int64"
      ]
     },
     "execution_count": 20,
     "metadata": {},
     "output_type": "execute_result"
    }
   ],
   "source": [
    "# Historical-Lymphocyte\n",
    "df['hl'].value_counts()"
   ]
  },
  {
   "cell_type": "code",
   "execution_count": 21,
   "id": "1255ea7b",
   "metadata": {},
   "outputs": [
    {
     "data": {
      "text/plain": [
       "ff\n",
       "1    76\n",
       "3    49\n",
       "2    46\n",
       "4     4\n",
       "Name: count, dtype: int64"
      ]
     },
     "execution_count": 21,
     "metadata": {},
     "output_type": "execute_result"
    }
   ],
   "source": [
    "#Frouxa fibrosis\n",
    "df['ff'].value_counts()"
   ]
  },
  {
   "cell_type": "code",
   "execution_count": 22,
   "id": "56a48f08",
   "metadata": {},
   "outputs": [
    {
     "name": "stdout",
     "output_type": "stream",
     "text": [
      "\n",
      "Estatísticas descritivas para idade:\n"
     ]
    },
    {
     "data": {
      "text/plain": [
       "count    175.000000\n",
       "mean      47.702857\n",
       "std       18.206439\n",
       "min       15.000000\n",
       "25%       30.000000\n",
       "50%       50.000000\n",
       "75%       61.000000\n",
       "max       87.000000\n",
       "Name: idade, dtype: float64"
      ]
     },
     "execution_count": 22,
     "metadata": {},
     "output_type": "execute_result"
    }
   ],
   "source": [
    "# Numerical variables\n",
    "print(\"\\nEstatísticas descritivas para idade:\")\n",
    "df['idade'].describe()"
   ]
  },
  {
   "cell_type": "code",
   "execution_count": 23,
   "id": "9364a983",
   "metadata": {},
   "outputs": [
    {
     "name": "stderr",
     "output_type": "stream",
     "text": [
      "c:\\Users\\rafae\\anaconda3_2024\\Lib\\site-packages\\seaborn\\_oldcore.py:1119: FutureWarning: use_inf_as_na option is deprecated and will be removed in a future version. Convert inf values to NaN before operating instead.\n",
      "  with pd.option_context('mode.use_inf_as_na', True):\n"
     ]
    },
    {
     "data": {
      "image/png": "[encoded data removed]",
      "text/plain": [
       "<Figure size 800x600 with 1 Axes>"
      ]
     },
     "metadata": {},
     "output_type": "display_data"
    }
   ],
   "source": [
    "# ** Age distribution by tumor type **\n",
    "plt.figure(figsize=(8, 6))\n",
    "sns.histplot(data=df, x='idade', hue='tipo', kde=True, bins=20, palette='muted')\n",
    "plt.title('Distribuição de Idade por Tipo de Tumor')\n",
    "plt.xlabel('Idade')\n",
    "plt.ylabel('Frequência')\n",
    "plt.show()\n"
   ]
  },
  {
   "cell_type": "markdown",
   "id": "d5897ea9-aac0-49df-a355-21819f13b89f",
   "metadata": {},
   "source": [
    "** b) ** Is there any variable that draws attention to the tumor type? (Tip: cross the variables in relation to the tumor type)."
   ]
  },
  {
   "cell_type": "code",
   "execution_count": 24,
   "id": "a3eb5af1-3b63-4341-b020-a3830fb189fc",
   "metadata": {},
   "outputs": [
    {
     "name": "stdout",
     "output_type": "stream",
     "text": [
      "\n",
      "Tabela cruzada - Tipo de Tumor x Sexo:\n"
     ]
    },
    {
     "data": {
      "text/html": [
       "<div>\n",
       "<style scoped>\n",
       "    .dataframe tbody tr th:only-of-type {\n",
       "        vertical-align: middle;\n",
       "    }\n",
       "\n",
       "    .dataframe tbody tr th {\n",
       "        vertical-align: top;\n",
       "    }\n",
       "\n",
       "    .dataframe thead th {\n",
       "        text-align: right;\n",
       "    }\n",
       "</style>\n",
       "<table border=\"1\" class=\"dataframe\">\n",
       "  <thead>\n",
       "    <tr style=\"text-align: right;\">\n",
       "      <th>sexo</th>\n",
       "      <th>1</th>\n",
       "      <th>2</th>\n",
       "    </tr>\n",
       "    <tr>\n",
       "      <th>tipo</th>\n",
       "      <th></th>\n",
       "      <th></th>\n",
       "    </tr>\n",
       "  </thead>\n",
       "  <tbody>\n",
       "    <tr>\n",
       "      <th>0</th>\n",
       "      <td>78</td>\n",
       "      <td>26</td>\n",
       "    </tr>\n",
       "    <tr>\n",
       "      <th>1</th>\n",
       "      <td>48</td>\n",
       "      <td>23</td>\n",
       "    </tr>\n",
       "  </tbody>\n",
       "</table>\n",
       "</div>"
      ],
      "text/plain": [
       "sexo   1   2\n",
       "tipo        \n",
       "0     78  26\n",
       "1     48  23"
      ]
     },
     "execution_count": 24,
     "metadata": {},
     "output_type": "execute_result"
    }
   ],
   "source": [
    "# Type of tumor x sex\n",
    "sexo_tumor = pd.crosstab(df['tipo'], df['sexo'])\n",
    "print(\"\\nTabela cruzada - Tipo de Tumor x Sexo:\")\n",
    "sexo_tumor"
   ]
  },
  {
   "cell_type": "code",
   "execution_count": 25,
   "id": "144b5545-4b7c-49ab-8ad5-f905767df5d4",
   "metadata": {},
   "outputs": [
    {
     "name": "stdout",
     "output_type": "stream",
     "text": [
      "\n",
      "Teste Qui-Quadrado - Tipo de Tumor x Sexo:\n",
      "Qui-Quadrado: 0.8069719062236673, p-valor: 0.3690170246503912\n"
     ]
    }
   ],
   "source": [
    "from scipy.stats import ttest_ind, chi2_contingency\n",
    "\n",
    "# Qui-square test for tumor type x sex\n",
    "chi2, p, dof, expected = chi2_contingency(sexo_tumor)\n",
    "print(\"\\nTeste Qui-Quadrado - Tipo de Tumor x Sexo:\")\n",
    "print(f\"Qui-Quadrado: {chi2}, p-valor: {p}\")"
   ]
  },
  {
   "cell_type": "code",
   "execution_count": 26,
   "id": "66cd26c9",
   "metadata": {},
   "outputs": [
    {
     "name": "stdout",
     "output_type": "stream",
     "text": [
      "\n",
      "Tabela cruzada - Tipo de Tumor x HL:\n",
      "hl    1   2   3   4\n",
      "tipo               \n",
      "0     2  24  65  13\n",
      "1     6  43  21   1\n"
     ]
    }
   ],
   "source": [
    "# Type of tumor x hl\n",
    "hl_tumor = pd.crosstab(df['tipo'], df['hl'])\n",
    "print(\"\\nTabela cruzada - Tipo de Tumor x HL:\")\n",
    "print(hl_tumor)"
   ]
  },
  {
   "cell_type": "code",
   "execution_count": 27,
   "id": "f23429e3",
   "metadata": {},
   "outputs": [
    {
     "name": "stdout",
     "output_type": "stream",
     "text": [
      "\n",
      "Teste Qui-Quadrado - Tipo de Tumor x HL:\n",
      "Qui-Quadrado: 35.21475260730537, p-valor: 1.097391987802205e-07\n"
     ]
    }
   ],
   "source": [
    "# Qui-square test for tumor type x hl\n",
    "chi2, p, dof, expected = chi2_contingency(hl_tumor)\n",
    "print(\"\\nTeste Qui-Quadrado - Tipo de Tumor x HL:\")\n",
    "print(f\"Qui-Quadrado: {chi2}, p-valor: {p}\")"
   ]
  },
  {
   "cell_type": "code",
   "execution_count": 28,
   "id": "772cf487",
   "metadata": {},
   "outputs": [
    {
     "name": "stdout",
     "output_type": "stream",
     "text": [
      "\n",
      "Tabela cruzada - Tipo de Tumor x FF:\n",
      "ff     1   2   3  4\n",
      "tipo               \n",
      "0     31  32  39  2\n",
      "1     45  14  10  2\n"
     ]
    }
   ],
   "source": [
    "# Type of tumor x ff\n",
    "ff_tumor = pd.crosstab(df['tipo'], df['ff'])\n",
    "print(\"\\nTabela cruzada - Tipo de Tumor x FF:\")\n",
    "print(ff_tumor)"
   ]
  },
  {
   "cell_type": "code",
   "execution_count": 29,
   "id": "ca15c2db-734f-44d3-9bc0-c4c874dc19f2",
   "metadata": {},
   "outputs": [
    {
     "name": "stdout",
     "output_type": "stream",
     "text": [
      "\n",
      "Teste Qui-Quadrado - Tipo de Tumor x FF:\n",
      "Qui-Quadrado: 21.32099082126981, p-valor: 9.029164440322077e-05\n"
     ]
    }
   ],
   "source": [
    "# Qui-Qui-square tumor type x ff test\n",
    "chi2, p, dof, expected = chi2_contingency(ff_tumor)\n",
    "print(\"\\nTeste Qui-Quadrado - Tipo de Tumor x FF:\")\n",
    "print(f\"Qui-Quadrado: {chi2}, p-valor: {p}\")"
   ]
  },
  {
   "cell_type": "code",
   "execution_count": 30,
   "id": "bde5ab97-3bd7-4418-b365-566c792e16d9",
   "metadata": {},
   "outputs": [
    {
     "data": {
      "image/png": "[encoded data removed]",
      "text/plain": [
       "<Figure size 800x600 with 1 Axes>"
      ]
     },
     "metadata": {},
     "output_type": "display_data"
    },
    {
     "name": "stdout",
     "output_type": "stream",
     "text": [
      "\n",
      "Teste t para Idade entre Tumores Malignos e Benignos:\n",
      "Estatística t: 7.743136029857681, p-valor: 7.826319968665882e-13\n"
     ]
    }
   ],
   "source": [
    "# Age by tumor type\n",
    "plt.figure(figsize=(8, 6))\n",
    "sns.boxplot(data=df, x='tipo', y='idade', palette='muted')\n",
    "plt.title('Boxplot de Idade por Tipo de Tumor')\n",
    "plt.xlabel('Tipo de Tumor')\n",
    "plt.ylabel('Idade')\n",
    "plt.show()\n",
    "\n",
    "# Test t for age x tumor type\n",
    "idade_maligno = df[df['tipo'] == 1]['idade']\n",
    "idade_benigno = df[df['tipo'] == 0]['idade']\n",
    "\n",
    "t_stat, p_val = ttest_ind(idade_maligno, idade_benigno, equal_var=False)\n",
    "print(\"\\nTeste t para Idade entre Tumores Malignos e Benignos:\")\n",
    "print(f\"Estatística t: {t_stat}, p-valor: {p_val}\")"
   ]
  },
  {
   "cell_type": "markdown",
   "id": "80d8f066-876a-4549-a7ef-07bdd6c69892",
   "metadata": {},
   "source": [
    "** Question 3 **"
   ]
  },
  {
   "cell_type": "markdown",
   "id": "13260284-098b-46a0-866d-3321c84b9679",
   "metadata": {},
   "source": [
    "Each air sample has a 10% chance of containing a certain rare molecule. Consider that the samples are independent regarding the presence of the rare molecule. Find the probability that in 18 samples:"
   ]
  },
  {
   "cell_type": "markdown",
   "id": "51a0ccb3-2275-4e52-9c89-a5215390dae0",
   "metadata": {},
   "source": [
    "** a) ** Exactly 2 contain the rare molecule."
   ]
  },
  {
   "cell_type": "code",
   "execution_count": 31,
   "id": "9479e6d2-6eea-49b4-9994-9b9be1a4be1a",
   "metadata": {},
   "outputs": [],
   "source": [
    "from scipy.stats import binom"
   ]
  },
  {
   "cell_type": "code",
   "execution_count": 32,
   "id": "9dd9bc15-6caf-4d32-a8f3-f527af8ee2d4",
   "metadata": {},
   "outputs": [
    {
     "data": {
      "text/plain": [
       "0.2835120888943317"
      ]
     },
     "execution_count": 32,
     "metadata": {},
     "output_type": "execute_result"
    }
   ],
   "source": [
    "a = binom.pmf(2, 18, 0.1)\n",
    "a"
   ]
  },
  {
   "cell_type": "markdown",
   "id": "d224f23e-f5f9-489e-b9eb-f9eeb5128c63",
   "metadata": {},
   "source": [
    "** b) ** at least 4 samples contain the rare molecule."
   ]
  },
  {
   "cell_type": "code",
   "execution_count": 33,
   "id": "51a6ec4f-f3ad-4535-beaf-ee8566ee1e06",
   "metadata": {},
   "outputs": [
    {
     "data": {
      "text/plain": [
       "0.09819684142543739"
      ]
     },
     "execution_count": 33,
     "metadata": {},
     "output_type": "execute_result"
    }
   ],
   "source": [
    "b = 1 - binom.cdf(3, 18, 0.1)\n",
    "b"
   ]
  },
  {
   "cell_type": "markdown",
   "id": "283dc10c-89b1-4b59-87bb-c0d43cf7a288",
   "metadata": {},
   "source": [
    "** c) ** of 3 to 7 samples contain the rare molecule."
   ]
  },
  {
   "cell_type": "code",
   "execution_count": 34,
   "id": "2b3deeb0-97dd-417d-9876-18338e2715a9",
   "metadata": {},
   "outputs": [
    {
     "data": {
      "text/plain": [
       "0.26603054787476715"
      ]
     },
     "execution_count": 34,
     "metadata": {},
     "output_type": "execute_result"
    }
   ],
   "source": [
    "c = binom.pmf(3, 18, 0.1) + binom.pmf(4, 18, 0.1) + binom.pmf(5, 18, 0.1) + binom.pmf(6, 18, 0.1) + binom.pmf(7, 18, 0.1)\n",
    "c"
   ]
  },
  {
   "cell_type": "markdown",
   "id": "c1b8fd8c-e2c0-4240-ac14-03e53205a2e5",
   "metadata": {},
   "source": [
    "** d) ** The average number and the variance of rare molecules."
   ]
  },
  {
   "cell_type": "code",
   "execution_count": 35,
   "id": "43c5aa5a-c1ae-4cb4-9132-25241f3f1a31",
   "metadata": {},
   "outputs": [
    {
     "data": {
      "text/plain": [
       "1.8"
      ]
     },
     "execution_count": 35,
     "metadata": {},
     "output_type": "execute_result"
    }
   ],
   "source": [
    "n = 18\n",
    "p = 0.1\n",
    "q = 0.9\n",
    "\n",
    "media = n * p\n",
    "media"
   ]
  },
  {
   "cell_type": "code",
   "execution_count": 36,
   "id": "4c8b02da-58c0-4f0b-88d3-2b55d3e74a7c",
   "metadata": {},
   "outputs": [
    {
     "data": {
      "text/plain": [
       "1.62"
      ]
     },
     "execution_count": 36,
     "metadata": {},
     "output_type": "execute_result"
    }
   ],
   "source": [
    "variancia = n * p * q\n",
    "variancia "
   ]
  }
 ],
 "metadata": {
  "kernelspec": {
   "display_name": "base",
   "language": "python",
   "name": "python3"
  },
  "language_info": {
   "codemirror_mode": {
    "name": "ipython",
    "version": 3
   },
   "file_extension": ".py",
   "mimetype": "text/x-python",
   "name": "python",
   "nbconvert_exporter": "python",
   "pygments_lexer": "ipython3",
   "version": "3.11.7"
  }
 },
 "nbformat": 4,
 "nbformat_minor": 5
}
