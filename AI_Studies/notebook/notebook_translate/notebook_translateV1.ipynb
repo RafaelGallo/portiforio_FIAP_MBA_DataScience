{
 "cells": [
  {
   "cell_type": "code",
   "execution_count": null,
   "id": "528f4c78-35c5-452e-b813-9523f450daf3",
   "metadata": {},
   "outputs": [],
   "source": [
    "#!pip install deep_translator"
   ]
  },
  {
   "cell_type": "code",
   "execution_count": 1,
   "id": "f14fd007-6584-43fe-8d57-12de964e57b0",
   "metadata": {},
   "outputs": [],
   "source": [
    "# Fazer uma tradução mais completa: percorrer todas as células e traduzir de forma mais geral qualquer texto em português em markdowns e comentários de código.\n",
    "from deep_translator import GoogleTranslator\n",
    "from nbformat import read, write, NO_CONVERT"
   ]
  },
  {
   "cell_type": "code",
   "execution_count": 2,
   "id": "22732eac-8936-4342-9a5f-ef1391c9be36",
   "metadata": {},
   "outputs": [],
   "source": [
    "# Caminho do seu notebook original\n",
    "input_path = 'modelo_regressão_aprovacao_crédito.ipynb'\n",
    "output_path = 'output/model_reg_cred_v2.ipynb'"
   ]
  },
  {
   "cell_type": "code",
   "execution_count": 3,
   "id": "17d2ba6b-b006-41f6-9c03-293e54bacae3",
   "metadata": {},
   "outputs": [],
   "source": [
    "# Função de tradução segura\n",
    "def translate_text(text):\n",
    "    try:\n",
    "        result = GoogleTranslator(source='pt', target='en').translate(text)\n",
    "        # Garantir que o resultado seja sempre string\n",
    "        return str(result) if result is not None else text\n",
    "    except Exception as e:\n",
    "        print(f\"Translation error: {e}\")\n",
    "        return text  # Se falhar, retorna o original como string"
   ]
  },
  {
   "cell_type": "code",
   "execution_count": 4,
   "id": "3fbe42f8-343f-44ec-bc94-3482eb41668c",
   "metadata": {},
   "outputs": [],
   "source": [
    "# Load the notebook\n",
    "with open(input_path, 'r', encoding='utf-8') as f:\n",
    "    nb = read(f, as_version=NO_CONVERT)"
   ]
  },
  {
   "cell_type": "code",
   "execution_count": 5,
   "id": "ab0ed29a-1098-45eb-8dd9-2a26c4dd070b",
   "metadata": {},
   "outputs": [
    {
     "name": "stdout",
     "output_type": "stream",
     "text": [
      "CPU times: total: 1.11 s\n",
      "Wall time: 2min 23s\n"
     ]
    }
   ],
   "source": [
    "%%time\n",
    "\n",
    "# Traduzir markdowns e comentários nas células de código\n",
    "for cell in nb.cells:\n",
    "    if cell.cell_type == 'markdown':\n",
    "        cell.source = translate_text(cell.source)\n",
    "    elif cell.cell_type == 'code':\n",
    "        new_source = []\n",
    "        for line in cell.source.split('\\n'):\n",
    "            if line.strip().startswith('#'):\n",
    "                translated_comment = translate_text(line)\n",
    "                # Garante que mesmo com erro, vai uma string\n",
    "                if translated_comment is None:\n",
    "                    translated_comment = line\n",
    "                new_source.append(translated_comment)\n",
    "            else:\n",
    "                new_source.append(line)\n",
    "        cell.source = '\\n'.join(new_source)"
   ]
  },
  {
   "cell_type": "code",
   "execution_count": 6,
   "id": "bcbb578e-1e31-4ac4-b1f6-7c7d88f9135a",
   "metadata": {},
   "outputs": [
    {
     "name": "stdout",
     "output_type": "stream",
     "text": [
      "Translation completed! Translated notebook saved as: output/model_reg_cred_v2.ipynb\n"
     ]
    }
   ],
   "source": [
    "# Save the translated notebook\n",
    "with open(output_path, 'w', encoding='utf-8') as f:\n",
    "    write(nb, f)\n",
    "\n",
    "print(f\"Translation completed! Translated notebook saved as: {output_path}\")"
   ]
  },
  {
   "cell_type": "code",
   "execution_count": null,
   "id": "697b87e9-062e-47e8-8130-2996f3dbb772",
   "metadata": {},
   "outputs": [],
   "source": []
  }
 ],
 "metadata": {
  "kernelspec": {
   "display_name": "Python 3 (ipykernel)",
   "language": "python",
   "name": "python3"
  },
  "language_info": {
   "codemirror_mode": {
    "name": "ipython",
    "version": 3
   },
   "file_extension": ".py",
   "mimetype": "text/x-python",
   "name": "python",
   "nbconvert_exporter": "python",
   "pygments_lexer": "ipython3",
   "version": "3.12.4"
  }
 },
 "nbformat": 4,
 "nbformat_minor": 5
}
